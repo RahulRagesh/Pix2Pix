{
 "cells": [
  {
   "cell_type": "markdown",
   "metadata": {},
   "source": [
    "This notebook consists of supplementary documentation to the Pytorch version of Pix2Pix repository https://github.com/junyanz/pytorch-CycleGAN-and-pix2pix/blob/master/data. It covers relevant data processing source files. \n",
    "\n",
    "\n",
    "\n",
    "\n"
   ]
  },
  {
   "cell_type": "markdown",
   "metadata": {},
   "source": [
    "# image_folder.py"
   ]
  },
  {
   "cell_type": "markdown",
   "metadata": {},
   "source": [
    "This file consists of 3 function definitions as\n",
    "1. is_image_file(filename)\n",
    "2. make_dataset(dir)\n",
    "3. default_loader(path)\n",
    "\n",
    "Also included is a class ImageFolder(data.Dataset) definition."
   ]
  },
  {
   "cell_type": "markdown",
   "metadata": {},
   "source": [
    "### def is_image_file(filename):\n",
    "__Input :__ \n",
    "1. filename - the file name (may include the path prefixed) of the image.\n",
    "\n",
    "__Output :__\n",
    "returns a boolean if the filename points to a valid image file"
   ]
  },
  {
   "cell_type": "markdown",
   "metadata": {},
   "source": [
    "### def make_dataset(dir):\n",
    "__Input :__ \n",
    "1. dir - the path to the root directory\n",
    "\n",
    "__Output :__\n",
    "returns a list of all image filenames (path+image_file_name) recursively searched through the directory"
   ]
  },
  {
   "cell_type": "markdown",
   "metadata": {},
   "source": [
    "### def default_loader(path):\n",
    "__Input :__ \n",
    "1. path - the file name (may include the path prefixed) of the image.\n",
    "\n",
    "__Output :__\n",
    "returns a PIL image converted to RGB format"
   ]
  },
  {
   "cell_type": "markdown",
   "metadata": {},
   "source": [
    "# class ImageFolder(torch.utils.data.Dataset):\n",
    "\n",
    "### def \\_\\_init\\_\\_(self, root, transform=None, return_paths=False, loader=default_loader):\n",
    "\n",
    "        1. self.root - string containing root directory\n",
    "        2. self.imgs - a list of image filename (may include path prefixed)\n",
    "        3. self.transforms - a list transforms composed that needs to be applied to each of the images\n",
    "        4. self.return_paths - a boolean indicating whether paths are returned later on along with the images\n",
    "        5. self.loader - a function that defines how the image is loaded from the disk\n",
    "        \n",
    "### def \\_\\_getitem\\_\\_(self, index):\n",
    "        - Obtain the path to the indexed image file\n",
    "        - Loads the image from the disk using self.loader\n",
    "        - Applies all the transformations in self.transforms to the image\n",
    "        - return image or (image,path) depending on self.return_paths \n"
   ]
  },
  {
   "cell_type": "code",
   "execution_count": null,
   "metadata": {},
   "outputs": [],
   "source": []
  }
 ],
 "metadata": {
  "kernelspec": {
   "display_name": "Python 3",
   "language": "python",
   "name": "python3"
  },
  "language_info": {
   "codemirror_mode": {
    "name": "ipython",
    "version": 3
   },
   "file_extension": ".py",
   "mimetype": "text/x-python",
   "name": "python",
   "nbconvert_exporter": "python",
   "pygments_lexer": "ipython3",
   "version": "3.7.0"
  }
 },
 "nbformat": 4,
 "nbformat_minor": 2
}
